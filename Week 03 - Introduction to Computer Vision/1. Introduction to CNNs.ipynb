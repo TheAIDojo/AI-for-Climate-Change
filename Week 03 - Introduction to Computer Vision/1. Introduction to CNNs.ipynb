{
  "cells": [
    {
      "cell_type": "markdown",
      "metadata": {},
      "source": [
        "# Introduction to Convolutional Neural Networks\n",
        "<!--<badge>--><a href=\"https://colab.research.google.com/github/TheAIDojo/AI_4_Climate_Bootcamp/blob/main/Week 03 - Introduction to Computer Vision/1. Introduction to CNNs.ipynb\" target=\"_parent\"><img src=\"https://colab.research.google.com/assets/colab-badge.svg\" alt=\"Open In Colab\"/></a><!--</badge>-->\n",
        "\n",
        "In this notebook, we will explore the basics of convolutional neural networks (CNNs) and their applications in the field of climate change. We will be using the popular Python libraries such as Numpy, Pandas, TensorFlow, Scikit Learn, and TensorBoard to build and train our models.\n",
        "\n",
        "CNNs are a type of neural network that are commonly used in image and video analysis, and have been shown to be highly effective in tasks such as object recognition, image classification, and object detection. In the context of climate change, CNNs can be used to analyze satellite imagery and other data to better understand and predict changes in the Earth's climate.\n",
        "\n",
        "Before diving into CNNs, it is important to have a basic understanding of neural networks and how they work. If you are new to neural networks, we recommend starting with a tutorial on basic neural networks before continuing with this notebook."
      ]
    },
    {
      "cell_type": "markdown",
      "metadata": {},
      "source": [
        "## Table of Contents <a name=\"toc\"></a>\n",
        "* [Understanding the structure of a CNN](#intro)\n",
        "* [Fashion MNIST CNN](#cn_tf)"
      ]
    },
    {
      "cell_type": "markdown",
      "metadata": {},
      "source": [
        "## Understanding the structure of a CNN <a name=\"intro\"></a>\n",
        "[Back to Top](#toc)\n",
        "\n",
        "CNNs consist of multiple layers, including convolutional layers, pooling layers, and fully connected layers. The convolutional layers are responsible for extracting features from the input image, such as edges and textures. The pooling layers are used to reduce the dimensionality of the feature maps, while the fully connected layers are used to classify the image based on the features extracted.\n",
        "\n",
        "During the training process, the CNN learns the weights and biases of the filters in the convolutional layers. These filters are used to convolve over the input image and extract features. The training process also involves adjusting the weights and biases of the fully connected layers to improve the classification accuracy."
      ]
    },
    {
      "cell_type": "markdown",
      "metadata": {},
      "source": [
        "### Convolution Layers <a name=\"conv\"></a>\n",
        "[Back to Top](#toc)\n",
        "\n",
        "A convolutional filter is a small matrix that slides across the input image, performing a mathematical operation at each location. The output of the convolution is a new image, called a feature map, which highlights certain features of the input image.\n",
        "\n",
        "For example, a filter that detects edges in an image will produce a feature map where the pixels have high values where edges are present and low values where edges are not present. By applying multiple filters with different properties, a CNN can extract multiple features from the input image.\n",
        "\n",
        "The process of convolution can be thought of as a way to \"localize\" features in an image. By moving the filter across the image, the CNN can detect features at different positions in the image. This is in contrast to fully connected layers, which treat all pixels in the image as a single vector and do not take into account the spatial relationships between pixels.\n",
        "\n",
        "In Keras, the Conv2D layer is used to create convolutional layers in a CNN. The main parameters of this layer are the number of filters, the stride, and the padding. The number of filters determines how many feature maps are created by the convolution, the stride controls the step size of the filter when moving across the image, and the padding controls the amount of blank space added to the edges of the image before the convolution is applied."
      ]
    },
    {
      "cell_type": "markdown",
      "metadata": {},
      "source": [
        "### Pooling Layers <a name=\"pool\"></a>\n",
        "[Back to Top](#toc)\n",
        "\n",
        "Another important component of CNNs are pooling layers. Pooling layers are used to downsize the spatial dimensions of the feature maps, while keeping the most important features.\n",
        "\n",
        "The most common type of pooling is max pooling, in which the maximum value of a group of pixels is selected and used as the output. This has the effect of reducing the spatial resolution of the feature map, while retaining the most important features.\n",
        "\n",
        "There are also other types of pooling, such as average pooling, which takes the average value of a group of pixels, and min pooling, which takes the minimum value.\n",
        "\n",
        "The main advantage of using pooling layers is that they decrease the computational cost of the CNN and make it more robust to small translations of the input. By down-sampling the feature maps, pooling layers also make the CNN more tolerant to small variations in the position of the features.\n",
        "\n",
        "Pooling layers also make the CNN less sensitive to small changes in the input, which makes it more robust to noise and small variations in the position of the features. In addition, pooling layers also help to reduce overfitting by reducing the number of parameters in the model.\n",
        "\n",
        "We can stack multiple `Conv2D` and `MaxPooling` layers to create a deep CNN."
      ]
    },
    {
      "cell_type": "markdown",
      "metadata": {},
      "source": [
        "### Fully Connected Layers (Dense) <a name=\"fcn\"></a>\n",
        "[Back to Top](#toc)\n",
        "\n",
        "After the convolutional and pooling layers, the final stage of a CNN is the fully connected layers. These layers take the output of the previous layers and use it to make a prediction.\n",
        "\n",
        "In fully connected layers, each neuron in the layer is connected to every neuron in the previous layer. This allows the network to learn complex, non-linear relationships between the features extracted by the convolutional and pooling layers.\n",
        "\n",
        "The output of the fully connected layers is usually passed through an activation function, such as sigmoid or softmax, to produce a probability distribution over the possible classes."
      ]
    },
    {
      "cell_type": "markdown",
      "metadata": {},
      "source": [
        "## Fashion MNIST CNN <a name=\"cn_tf\"></a>\n",
        "[Back to Top](#toc)\n",
        "\n",
        "we will be working with the Fashion MNIST dataset, which consists of 60,000 28x28 grayscale images of clothing items and 10 classes. This dataset is a great starting point for learning about CNNs, as it is a relatively simple dataset with clear class labels.\n",
        "\n",
        "We will be using the TensorFlow and Keras libraries in Python to train and evaluate our CNNs. We will cover the different layers and techniques used in CNNs, such as convolutional layers, pooling layers, and fully connected layers.\n"
      ]
    },
    {
      "cell_type": "code",
      "execution_count": 2,
      "metadata": {},
      "outputs": [],
      "source": [
        "# import libraries\n",
        "import numpy as np\n",
        "import pandas as pd\n",
        "import matplotlib.pyplot as plt\n",
        "import tensorflow as tf"
      ]
    },
    {
      "cell_type": "code",
      "execution_count": 16,
      "metadata": {},
      "outputs": [
        {
          "name": "stdout",
          "output_type": "stream",
          "text": [
            "x_train shape: (60000, 28, 28) y_train shape: (60000,)\n"
          ]
        }
      ],
      "source": [
        "# load the data\n",
        "(x_train, y_train), (x_test, y_test) = tf.keras.datasets.fashion_mnist.load_data()\n",
        "\n",
        "# show the shape of the data\n",
        "print('x_train shape:', x_train.shape, 'y_train shape:', y_train.shape)"
      ]
    },
    {
      "cell_type": "code",
      "execution_count": 5,
      "metadata": {},
      "outputs": [],
      "source": [
        "# create index labels dictionary\n",
        "index_labels = {0: 'T-shirt/top', 1: 'Trouser', 2: 'Pullover', 3: 'Dress', 4: 'Coat', 5: 'Sandal', 6: 'Shirt', 7: 'Sneaker', 8: 'Bag', 9: 'Ankle boot'}"
      ]
    },
    {
      "cell_type": "code",
      "execution_count": 6,
      "metadata": {},
      "outputs": [
        {
          "data": {
            "image/png": "[encoded data removed]",
            "text/plain": [
              "<Figure size 1000x1000 with 10 Axes>"
            ]
          },
          "metadata": {},
          "output_type": "display_data"
        }
      ],
      "source": [
        "# plot the first 10 images in the training set and their labels\n",
        "plt.figure(figsize=(10,10))\n",
        "for i in range(10):\n",
        "    plt.subplot(5,5,i+1)\n",
        "    plt.xticks([])\n",
        "    plt.yticks([])\n",
        "    plt.grid(False)\n",
        "    plt.imshow(x_train[i], cmap=plt.cm.binary)\n",
        "    plt.xlabel(index_labels[y_train[i]])"
      ]
    },
    {
      "cell_type": "code",
      "execution_count": 7,
      "metadata": {},
      "outputs": [],
      "source": [
        "# normalize the data\n",
        "x_train = x_train / 255.0\n",
        "x_test = x_test / 255.0"
      ]
    },
    {
      "cell_type": "code",
      "execution_count": 8,
      "metadata": {},
      "outputs": [],
      "source": [
        "# one-hot encode the labels\n",
        "y_train = tf.one_hot(y_train, depth=10)\n",
        "y_test = tf.one_hot(y_test, depth=10)"
      ]
    },
    {
      "cell_type": "code",
      "execution_count": 12,
      "metadata": {},
      "outputs": [
        {
          "name": "stdout",
          "output_type": "stream",
          "text": [
            "Model: \"sequential_1\"\n",
            "_________________________________________________________________\n",
            " Layer (type)                Output Shape              Param #   \n",
            "=================================================================\n",
            " conv2d_1 (Conv2D)           (None, 28, 28, 32)        320       \n",
            "                                                                 \n",
            " max_pooling2d_1 (MaxPooling  (None, 14, 14, 32)       0         \n",
            " 2D)                                                             \n",
            "                                                                 \n",
            " conv2d_2 (Conv2D)           (None, 14, 14, 64)        18496     \n",
            "                                                                 \n",
            " max_pooling2d_2 (MaxPooling  (None, 7, 7, 64)         0         \n",
            " 2D)                                                             \n",
            "                                                                 \n",
            " dropout (Dropout)           (None, 7, 7, 64)          0         \n",
            "                                                                 \n",
            " conv2d_3 (Conv2D)           (None, 7, 7, 128)         73856     \n",
            "                                                                 \n",
            " max_pooling2d_3 (MaxPooling  (None, 3, 3, 128)        0         \n",
            " 2D)                                                             \n",
            "                                                                 \n",
            " dropout_1 (Dropout)         (None, 3, 3, 128)         0         \n",
            "                                                                 \n",
            " flatten_1 (Flatten)         (None, 1152)              0         \n",
            "                                                                 \n",
            " dense_2 (Dense)             (None, 512)               590336    \n",
            "                                                                 \n",
            " dropout_2 (Dropout)         (None, 512)               0         \n",
            "                                                                 \n",
            " dense_3 (Dense)             (None, 10)                5130      \n",
            "                                                                 \n",
            "=================================================================\n",
            "Total params: 688,138\n",
            "Trainable params: 688,138\n",
            "Non-trainable params: 0\n",
            "_________________________________________________________________\n"
          ]
        }
      ],
      "source": [
        "# rewrite the model in the previous cell in sequential API\n",
        "model = tf.keras.models.Sequential([\n",
        "    tf.keras.layers.Conv2D(32, 3, padding='same', activation='relu',kernel_initializer='he_normal', input_shape=(28,28, 1)),\n",
        "    tf.keras.layers.MaxPooling2D(pool_size=(2, 2)),\n",
        "    tf.keras.layers.Conv2D(64, 3, padding='same', activation='relu'),\n",
        "    tf.keras.layers.MaxPooling2D(pool_size=(2, 2)),\n",
        "    tf.keras.layers.Dropout(0.3),\n",
        "    tf.keras.layers.Conv2D(128, 3, padding='same', activation='relu'),\n",
        "    tf.keras.layers.MaxPooling2D(pool_size=(2, 2)),\n",
        "    tf.keras.layers.Dropout(0.4),\n",
        "    tf.keras.layers.Flatten(),\n",
        "    tf.keras.layers.Dense(512, activation='relu'),\n",
        "    tf.keras.layers.Dropout(0.25),\n",
        "    tf.keras.layers.Dense(10, activation='softmax')\n",
        "])\n",
        "\n",
        "# print a summary of the model\n",
        "model.summary()"
      ]
    },
    {
      "cell_type": "code",
      "execution_count": 13,
      "metadata": {},
      "outputs": [],
      "source": [
        "# compile the model\n",
        "model.compile(optimizer=tf.keras.optimizers.Adam(),\n",
        "                loss=tf.keras.losses.CategoricalCrossentropy(),\n",
        "                metrics=[tf.keras.metrics.CategoricalAccuracy()])"
      ]
    },
    {
      "cell_type": "code",
      "execution_count": 14,
      "metadata": {},
      "outputs": [
        {
          "name": "stdout",
          "output_type": "stream",
          "text": [
            "Epoch 1/20\n",
            "938/938 [==============================] - 22s 23ms/step - loss: 0.5125 - categorical_accuracy: 0.8126 - val_loss: 0.3362 - val_categorical_accuracy: 0.8799\n",
            "Epoch 2/20\n",
            "938/938 [==============================] - 20s 22ms/step - loss: 0.3384 - categorical_accuracy: 0.8769 - val_loss: 0.2897 - val_categorical_accuracy: 0.8944\n",
            "Epoch 3/20\n",
            "938/938 [==============================] - 21s 22ms/step - loss: 0.2952 - categorical_accuracy: 0.8911 - val_loss: 0.2621 - val_categorical_accuracy: 0.9065\n",
            "Epoch 4/20\n",
            "938/938 [==============================] - 21s 22ms/step - loss: 0.2701 - categorical_accuracy: 0.9006 - val_loss: 0.2491 - val_categorical_accuracy: 0.9045\n",
            "Epoch 5/20\n",
            "938/938 [==============================] - 22s 23ms/step - loss: 0.2541 - categorical_accuracy: 0.9059 - val_loss: 0.2416 - val_categorical_accuracy: 0.9139\n",
            "Epoch 6/20\n",
            "938/938 [==============================] - 22s 24ms/step - loss: 0.2404 - categorical_accuracy: 0.9117 - val_loss: 0.2441 - val_categorical_accuracy: 0.9112\n",
            "Epoch 7/20\n",
            "938/938 [==============================] - 22s 24ms/step - loss: 0.2291 - categorical_accuracy: 0.9153 - val_loss: 0.2316 - val_categorical_accuracy: 0.9140\n",
            "Epoch 8/20\n",
            "938/938 [==============================] - 23s 24ms/step - loss: 0.2210 - categorical_accuracy: 0.9176 - val_loss: 0.2152 - val_categorical_accuracy: 0.9208\n",
            "Epoch 9/20\n",
            "938/938 [==============================] - 23s 24ms/step - loss: 0.2123 - categorical_accuracy: 0.9206 - val_loss: 0.2399 - val_categorical_accuracy: 0.9117\n",
            "Epoch 10/20\n",
            "938/938 [==============================] - 23s 24ms/step - loss: 0.2057 - categorical_accuracy: 0.9233 - val_loss: 0.2150 - val_categorical_accuracy: 0.9204\n",
            "Epoch 11/20\n",
            "938/938 [==============================] - 23s 24ms/step - loss: 0.2010 - categorical_accuracy: 0.9254 - val_loss: 0.2195 - val_categorical_accuracy: 0.9206\n",
            "Epoch 12/20\n",
            "938/938 [==============================] - 23s 25ms/step - loss: 0.1957 - categorical_accuracy: 0.9270 - val_loss: 0.2159 - val_categorical_accuracy: 0.9237\n",
            "Epoch 13/20\n",
            "938/938 [==============================] - 24s 25ms/step - loss: 0.1898 - categorical_accuracy: 0.9287 - val_loss: 0.2092 - val_categorical_accuracy: 0.9280\n",
            "Epoch 14/20\n",
            "938/938 [==============================] - 24s 25ms/step - loss: 0.1840 - categorical_accuracy: 0.9308 - val_loss: 0.2094 - val_categorical_accuracy: 0.9261\n",
            "Epoch 15/20\n",
            "938/938 [==============================] - 24s 25ms/step - loss: 0.1826 - categorical_accuracy: 0.9319 - val_loss: 0.2098 - val_categorical_accuracy: 0.9243\n",
            "Epoch 16/20\n",
            "938/938 [==============================] - 24s 26ms/step - loss: 0.1789 - categorical_accuracy: 0.9335 - val_loss: 0.2086 - val_categorical_accuracy: 0.9260\n",
            "Epoch 17/20\n",
            "938/938 [==============================] - 23s 25ms/step - loss: 0.1743 - categorical_accuracy: 0.9350 - val_loss: 0.2078 - val_categorical_accuracy: 0.9252\n",
            "Epoch 18/20\n",
            "938/938 [==============================] - 23s 25ms/step - loss: 0.1713 - categorical_accuracy: 0.9348 - val_loss: 0.2113 - val_categorical_accuracy: 0.9265\n",
            "Epoch 19/20\n",
            "938/938 [==============================] - 22s 23ms/step - loss: 0.1693 - categorical_accuracy: 0.9358 - val_loss: 0.2037 - val_categorical_accuracy: 0.9270\n",
            "Epoch 20/20\n",
            "938/938 [==============================] - 23s 25ms/step - loss: 0.1662 - categorical_accuracy: 0.9371 - val_loss: 0.2066 - val_categorical_accuracy: 0.9255\n"
          ]
        },
        {
          "data": {
            "text/plain": [
              "<keras.callbacks.History at 0x2cb703b80>"
            ]
          },
          "execution_count": 14,
          "metadata": {},
          "output_type": "execute_result"
        }
      ],
      "source": [
        "# create an early stopping callback\n",
        "early_stopping = tf.keras.callbacks.EarlyStopping(monitor='val_loss', patience=3)\n",
        "\n",
        "# train the model\n",
        "model.fit(x_train, y_train, epochs=20, batch_size=64, validation_data=(x_test, y_test), callbacks=[early_stopping])"
      ]
    }
  ],
  "metadata": {
    "kernelspec": {
      "display_name": "Python 3 (ipykernel)",
      "language": "python",
      "name": "python3"
    },
    "language_info": {
      "codemirror_mode": {
        "name": "ipython",
        "version": 3
      },
      "file_extension": ".py",
      "mimetype": "text/x-python",
      "name": "python",
      "nbconvert_exporter": "python",
      "pygments_lexer": "ipython3",
      "version": "3.8.15"
    },
    "vscode": {
      "interpreter": {
        "hash": "34307d50f60b3a1739b0120251282ceb48aab2a74c47593a1ed36c86798eb2e0"
      }
    }
  },
  "nbformat": 4,
  "nbformat_minor": 1
}