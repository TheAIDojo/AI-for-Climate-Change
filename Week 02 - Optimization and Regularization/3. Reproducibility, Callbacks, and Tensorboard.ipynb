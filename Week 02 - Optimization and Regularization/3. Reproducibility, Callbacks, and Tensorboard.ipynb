{
 "cells": [
  {
   "cell_type": "markdown",
   "metadata": {
    "collapsed": false
   },
   "source": [
    "# Reproducibility, Callbacks, and TensorBoard\n",
    "<!--<badge>--><a href=\"https://colab.research.google.com/github/TheAIDojo/AI_4_Climate_Bootcamp/blob/main/Week 02 - Optimization and Regularization/3. Reproducibility, Callbacks, and Tensorboard.ipynb\" target=\"_parent\"><img src=\"https://colab.research.google.com/assets/colab-badge.svg\" alt=\"Open In Colab\"/></a><!--</badge>-->\n",
    "\n",
    "We will be diving into the concepts of reproducibility, monitoring and analyzing the training process using TensorBoard.\n",
    "The ability to reproduce the results of a model is crucial for scientific research and the development of machine learning models. It allows for the verification of results, the identification of bugs, and the ability to reproduce results for further experimentation.\n",
    "\n",
    "We will begin by setting random seeds to ensure reproducibility across libraries such as TensorFlow, NumPy, and scikit-learn.\n",
    "Then, we will explore how to save and load models using TensorFlow's model persistence API. This will allow us to save and load the weights and architecture of a model for further use.\n",
    "\n",
    "Finally, we will look at TensorBoard, a visualization tool for monitoring the training process and analyzing the performance of our models. We will learn how to use TensorBoard to track metrics such as accuracy, loss, and gradients, which will help us to understand the performance of our models and identify any issues that may be occurring during training.\n",
    "\n",
    "By the end of this tutorial, you will have a solid understanding of the importance of reproducibility and model persistence, as well as the use of TensorBoard for monitoring and analyzing the training process."
   ]
  },
  {
   "cell_type": "markdown",
   "metadata": {
    "collapsed": false
   },
   "source": [
    "## Table of Contents <a name=\"toc\"></a>\n",
    "* [Reproducibility](#reprod)\n",
    "* [Keras Callbacks](#callbacks)\n",
    "* [TensorBoard](#tensorboard)\n",
    "* [Fashion MNIST](#example)"
   ]
  },
  {
   "cell_type": "code",
   "execution_count": 3,
   "metadata": {
    "collapsed": false
   },
   "outputs": [],
   "source": [
    "import numpy as np\n",
    "import pandas as pd\n",
    "import matplotlib.pyplot as plt\n",
    "import tensorflow as tf"
   ]
  },
  {
   "cell_type": "markdown",
   "metadata": {
    "collapsed": false
   },
   "source": [
    "## Reproducibility <a name=\"reprod\"></a>\n",
    "[Back to Top](#toc)\n",
    "\n",
    "Reproducibility is a crucial aspect of scientific research and machine learning development. It ensures that results can be verified, bugs can be identified, and experimentation can be repeated. In order to achieve reproducibility in TensorFlow and machine learning in general, it is important to set random seeds.\n",
    "\n",
    "In TensorFlow, the random seed can be set using the tf.random.set_seed() function. This function should be called before any other TensorFlow operations are used. For example, to set the seed to 42, we can do:\n",
    "\n",
    "```\n",
    "tf.random.set_seed(42)\n",
    "```\n",
    "\n",
    "In addition to setting the random seed in TensorFlow, it is also important to set the random seed in other libraries such as NumPy and scikit-learn. In NumPy, we can set the seed using `np.random.seed(42)`, and in scikit-learn, we can set the seed using `random_state=42` in the initialization of an estimator or other functions that introduce randomness like `train_test_split` with shuffling enabled.\n",
    "\n",
    "It's also important to record the versions of all libraries used and the system details. This can be done using `pip freeze > requirements.txt` or `conda list > environment.yml`\n",
    "\n",
    "By setting the random seed across all libraries and recording the versions of libraries and system details, we can ensure that results can be easily reproduced.\n",
    "\n"
   ]
  },
  {
   "cell_type": "code",
   "execution_count": 4,
   "metadata": {
    "collapsed": false
   },
   "outputs": [],
   "source": [
    "seed = 42\n",
    "tf.random.set_seed(seed)\n",
    "np.random.seed(seed)\n",
    "\n",
    "from sklearn.ensemble import RandomForestClassifier\n",
    "\n",
    "model = RandomForestClassifier(random_state=seed)"
   ]
  },
  {
   "cell_type": "markdown",
   "metadata": {
    "collapsed": false
   },
   "source": [
    "### Keras Callbacks  <a name=\"callbacks\"></a>\n",
    "[Back to Top](#toc)\n",
    "\n",
    "Keras callbacks are a powerful tool for monitoring and customizing the training process of a model. We briefly touched on the subject when we used EarlyStopping as a regularization technique in earlier lectures, but now we will delve deeper into the capabilities of callbacks and see how they can help us improve the reproducibility and monitoring of our models.\n",
    "\n",
    "Callbacks in Keras are functions that are applied at certain stages of the training process, such as at the end of each epoch, or when training is about to begin. These functions can be used to perform a variety of tasks, such as saving the model's weights, early stopping, and logging to TensorBoard.\n",
    "\n",
    "In this companion code, we will explore the different types of callbacks available in Keras and see how they can be used to improve the reproducibility and monitoring of our models. We will use callbacks to save the model's weights, monitor training metrics, and log data to TensorBoard.\n",
    "\n",
    "It's important to note that callbacks can be used in conjunction with other techniques such as setting random seeds to ensure reproducibility. With the help of callbacks, we can have more control over the training process and be able to better understand and optimize our models."
   ]
  },
  {
   "cell_type": "markdown",
   "metadata": {
    "collapsed": false
   },
   "source": [
    "#### Types of Callbacks\n",
    "\n",
    "Some of the most common callbacks built into Keras include the following:\n",
    "\n",
    "* **ModelCheckpoint**: saves the model after every epoch or at a specified frequency, allowing you to save only the best performing models.\n",
    "* **EarlyStopping**: stops training when a certain metric, such as validation loss, stops improving after a specified number of epochs.\n",
    "* **TensorBoard**: allows you to visualize metrics and model architecture in TensorFlow's TensorBoard.\n",
    "* **CSVLogger**: saves the training metrics to a CSV file, allowing you to easily track performance over time.\n",
    "* **LearningRateScheduler**: allows you to schedule the learning rate to change over time, such as starting with a high learning rate and decreasing it over time.\n",
    "\n",
    "To learn more, check out the full list at Keras Callbacks [docs](https://tensorflow.org/api_docs/python/tf/keras/callbacks/callback), you can also find custom written callbacks posted on GitHub suchs as [Telegram notification callback](https://github.com/qubvel/keras_telegram_callback), you can also write your own by extending the `Callback` class as outlined in this [tutorial](https://www.tensorflow.org/guide/keras/custom_callback)."
   ]
  },
  {
   "cell_type": "markdown",
   "metadata": {
    "collapsed": false
   },
   "source": [
    "### Introduction to Tensorboard  <a name=\"tensorboard\"></a>\n",
    "[Back to Top](#toc)\n",
    "\n",
    "Tensorboard is a powerful tool developed by TensorFlow team that allows us to visualize and analyze our model's training process. It provides a dashboard of various visualizations such as scalars, histograms, distributions, and more, that can help us understand how our model is performing during training and identify potential issues.\n",
    "\n",
    "Some key features of Tensorboard include:\n",
    "\n",
    "- **Scalars**: Allows us to track the progress of our model's training by plotting metrics such as loss, accuracy, and learning rate over time.\n",
    "- **Histograms**: Helps us to understand the distribution of our model's parameters and gradients, which can be useful for identifying issues such as vanishing gradients.\n",
    "- **Distributions**: Similar to histograms, it helps to understand the distribution of the parameters and gradients.\n",
    "- **Images**: Allows us to view images generated by our model, which can be useful for identifying issues such as overfitting.\n",
    "\n",
    "Overall, Tensorboard is an essential tool for monitoring and analyzing the performance of our models during training. It can help us identify issues early on and make necessary adjustments to our model to improve its performance.\n",
    "\n",
    "You can learn more about Tensorboard by visiting its official documentation [here](https://www.tensorflow.org/tensorboard)"
   ]
  },
  {
   "cell_type": "markdown",
   "metadata": {
    "collapsed": false
   },
   "source": [
    "### Fashion MNIST  <a name=\"example\"></a>\n",
    "[Back to Top](#toc)\n",
    "In this section, we will put everything we have learned about reproducibility, callbacks, and TensorBoard into practice by creating an end-to-end code example. We will use the popular Fashion MNIST dataset, which consists of image of 10 different articles of clothing, and will create a simple feed forward neural networks to classify them.\n",
    "\n",
    "First, we will set the random seeds for reproducibility and load the dataset. Then, we will define our model architecture and compile it with appropriate loss function and metrics. We will then create an instance of the TensorBoard callback, which will allow us to visualize and monitor the training process. Additionally, we will create an instance of the ModelCheckpoint callback to save the best model weights.\n",
    "\n",
    "Next, we will train the model using the fit() method and passing in our callbacks as arguments. After training, we will evaluate the model on the test set and save the results. Finally, we will use the TensorBoard callback to launch TensorBoard and visualize the training process."
   ]
  },
  {
   "cell_type": "code",
   "execution_count": 14,
   "metadata": {
    "collapsed": false
   },
   "outputs": [],
   "source": [
    "# set the random seed\n",
    "seed = 42\n",
    "tf.random.set_seed(seed)\n",
    "np.random.seed(seed)"
   ]
  },
  {
   "cell_type": "code",
   "execution_count": 15,
   "metadata": {
    "collapsed": true
   },
   "outputs": [
    {
     "name": "stdout",
     "output_type": "stream",
     "text": [
      "Downloading data from https://storage.googleapis.com/tensorflow/tf-keras-datasets/train-labels-idx1-ubyte.gz\n",
      "29515/29515 [==============================] - 0s 1us/step\n",
      "Downloading data from https://storage.googleapis.com/tensorflow/tf-keras-datasets/train-images-idx3-ubyte.gz\n",
      "26421880/26421880 [==============================] - 6s 0us/step\n",
      "Downloading data from https://storage.googleapis.com/tensorflow/tf-keras-datasets/t10k-labels-idx1-ubyte.gz\n",
      "5148/5148 [==============================] - 0s 0us/step\n",
      "Downloading data from https://storage.googleapis.com/tensorflow/tf-keras-datasets/t10k-images-idx3-ubyte.gz\n",
      "4422102/4422102 [==============================] - 1s 0us/step\n"
     ]
    },
    {
     "data": {
      "text/plain": [
       "((60000, 28, 28), (60000,), (10000, 28, 28), (60000,))"
      ]
     },
     "execution_count": 15,
     "metadata": {},
     "output_type": "execute_result"
    }
   ],
   "source": [
    "# Load and preprocess the data\n",
    "(x_train, y_train), (x_test, y_test) = tf.keras.datasets.fashion_mnist.load_data()\n",
    "\n",
    "x_train.shape, y_train.shape, x_test.shape, y_train.shape"
   ]
  },
  {
   "cell_type": "code",
   "execution_count": 16,
   "metadata": {
    "collapsed": false
   },
   "outputs": [],
   "source": [
    "# Pick a random image index\n",
    "index = np.random.randint(0, x_train.shape[0])"
   ]
  },
  {
   "cell_type": "code",
   "execution_count": 17,
   "metadata": {
    "collapsed": false
   },
   "outputs": [
    {
     "data": {
      "image/png": "[encoded data removed]",
      "text/plain": [
       "<Figure size 640x480 with 1 Axes>"
      ]
     },
     "metadata": {},
     "output_type": "display_data"
    }
   ],
   "source": [
    "# Plot the image\n",
    "plt.imshow(x_train[index], cmap=\"gray\")\n",
    "plt.title(\"Label: \" + str(y_train[index]))\n",
    "plt.show()"
   ]
  },
  {
   "cell_type": "code",
   "execution_count": 18,
   "metadata": {
    "collapsed": false
   },
   "outputs": [
    {
     "data": {
      "text/plain": [
       "((60000, 784), (10000, 784))"
      ]
     },
     "execution_count": 18,
     "metadata": {},
     "output_type": "execute_result"
    }
   ],
   "source": [
    "# reshape the data to be in the format (batch_size, input_dim) because Dense layers require one dimensional input\n",
    "x_train = x_train.reshape(-1, 28 * 28)\n",
    "x_test = x_test.reshape(-1, 28 * 28)\n",
    "\n",
    "x_train.shape, x_test.shape"
   ]
  },
  {
   "cell_type": "code",
   "execution_count": 19,
   "metadata": {
    "collapsed": false
   },
   "outputs": [],
   "source": [
    "# Normalize the data\n",
    "x_train = x_train / 255.0\n",
    "x_test = x_test / 255.0"
   ]
  },
  {
   "cell_type": "code",
   "execution_count": 20,
   "metadata": {
    "collapsed": false
   },
   "outputs": [
    {
     "data": {
      "text/plain": [
       "(TensorShape([60000, 10]), TensorShape([10000, 10]))"
      ]
     },
     "execution_count": 20,
     "metadata": {},
     "output_type": "execute_result"
    }
   ],
   "source": [
    "# convert the labels from integers to categorical using one hot encoding\n",
    "depth = len(set(y_train))  # calculate the number of classes to use as depth\n",
    "y_train = tf.one_hot(y_train, depth=depth)\n",
    "y_test = tf.one_hot(y_test, depth=depth)\n",
    "\n",
    "y_train.shape, y_test.shape"
   ]
  },
  {
   "cell_type": "code",
   "execution_count": null,
   "metadata": {},
   "outputs": [],
   "source": [
    "# Note that TensorFlow uses a stateful random number generator, so you need to set the seed before each model intalization to get reproducible results\n",
    "tf.random.set_seed(seed)"
   ]
  },
  {
   "cell_type": "code",
   "execution_count": 21,
   "metadata": {
    "collapsed": false
   },
   "outputs": [
    {
     "name": "stdout",
     "output_type": "stream",
     "text": [
      "Model: \"sequential_1\"\n",
      "_________________________________________________________________\n",
      " Layer (type)                Output Shape              Param #   \n",
      "=================================================================\n",
      " dense_3 (Dense)             (None, 256)               200960    \n",
      "                                                                 \n",
      " dropout_2 (Dropout)         (None, 256)               0         \n",
      "                                                                 \n",
      " dense_4 (Dense)             (None, 128)               32896     \n",
      "                                                                 \n",
      " dropout_3 (Dropout)         (None, 128)               0         \n",
      "                                                                 \n",
      " dense_5 (Dense)             (None, 10)                1290      \n",
      "                                                                 \n",
      "=================================================================\n",
      "Total params: 235,146\n",
      "Trainable params: 235,146\n",
      "Non-trainable params: 0\n",
      "_________________________________________________________________\n"
     ]
    }
   ],
   "source": [
    "# fetch the input shape, i.e. the number of features\n",
    "input_shape = x_train.shape[1]  # input_shape = 784\n",
    "\n",
    "model = tf.keras.Sequential(\n",
    "    [\n",
    "        # input layer\n",
    "        tf.keras.layers.Input(shape=(input_shape)),\n",
    "        # hidden layers\n",
    "        tf.keras.layers.Dense(256, activation=\"relu\"),\n",
    "        tf.keras.layers.Dropout(0.2),\n",
    "        tf.keras.layers.Dense(128, activation=\"relu\"),\n",
    "        tf.keras.layers.Dropout(0.3),\n",
    "        # output layer\n",
    "        tf.keras.layers.Dense(10, activation=\"softmax\"),\n",
    "    ]\n",
    ")\n",
    "\n",
    "model.summary()"
   ]
  },
  {
   "cell_type": "code",
   "execution_count": 22,
   "metadata": {
    "collapsed": false
   },
   "outputs": [],
   "source": [
    "loss_fn = tf.losses.CategoricalCrossentropy()\n",
    "optimizer = tf.optimizers.Adam(learning_rate=0.001)\n",
    "metrics = [tf.keras.metrics.CategoricalAccuracy()]\n",
    "\n",
    "# Compile the model\n",
    "model.compile(optimizer=optimizer, loss=loss_fn, metrics=metrics)"
   ]
  },
  {
   "cell_type": "code",
   "execution_count": 23,
   "metadata": {
    "collapsed": false
   },
   "outputs": [],
   "source": [
    "# import datetime, a built-in python module for working with dates and times, we will use it to define a unique folder for each experiment\n",
    "import datetime\n",
    "\n",
    "# Get current date and time for unique logdir name\n",
    "now = datetime.datetime.now()\n",
    "now_formatted = now.strftime(\"%Y_%m_%d_%H_%M_%S\")\n",
    "logdir = f\"logs/fit/{now_formatted}\"\n",
    "\n",
    "# Define Tensorboard callback\n",
    "tensorboard_callback = tf.keras.callbacks.TensorBoard(log_dir=logdir)\n",
    "\n",
    "# Define Early Stopping callback\n",
    "early_stopping_callback = tf.keras.callbacks.EarlyStopping(\n",
    "    monitor=\"val_loss\", patience=5\n",
    ")\n",
    "\n",
    "# Define Model Checkpoint callback\n",
    "model_path = f\"models/fit/{now_formatted}/best_model.h5\"\n",
    "model_checkpoint_callback = tf.keras.callbacks.ModelCheckpoint(\n",
    "    filepath=model_path, monitor=\"val_loss\", save_best_only=True\n",
    ")"
   ]
  },
  {
   "cell_type": "code",
   "execution_count": 24,
   "metadata": {
    "collapsed": false
   },
   "outputs": [
    {
     "name": "stdout",
     "output_type": "stream",
     "text": [
      "Epoch 1/10\n"
     ]
    },
    {
     "name": "stderr",
     "output_type": "stream",
     "text": [
      "2023-01-25 16:19:07.863291: W tensorflow/tsl/platform/profile_utils/cpu_utils.cc:128] Failed to get CPU frequency: 0 Hz\n"
     ]
    },
    {
     "name": "stdout",
     "output_type": "stream",
     "text": [
      "1875/1875 [==============================] - 5s 3ms/step - loss: 0.5514 - categorical_accuracy: 0.8025 - val_loss: 0.4282 - val_categorical_accuracy: 0.8435\n",
      "Epoch 2/10\n",
      "1875/1875 [==============================] - 5s 2ms/step - loss: 0.4104 - categorical_accuracy: 0.8515 - val_loss: 0.4268 - val_categorical_accuracy: 0.8484\n",
      "Epoch 3/10\n",
      "1875/1875 [==============================] - 5s 3ms/step - loss: 0.3783 - categorical_accuracy: 0.8620 - val_loss: 0.3742 - val_categorical_accuracy: 0.8633\n",
      "Epoch 4/10\n",
      "1875/1875 [==============================] - 5s 2ms/step - loss: 0.3553 - categorical_accuracy: 0.8702 - val_loss: 0.3550 - val_categorical_accuracy: 0.8705\n",
      "Epoch 5/10\n",
      "1875/1875 [==============================] - 5s 2ms/step - loss: 0.3387 - categorical_accuracy: 0.8765 - val_loss: 0.3577 - val_categorical_accuracy: 0.8695\n",
      "Epoch 6/10\n",
      "1875/1875 [==============================] - 5s 2ms/step - loss: 0.3287 - categorical_accuracy: 0.8780 - val_loss: 0.3748 - val_categorical_accuracy: 0.8621\n",
      "Epoch 7/10\n",
      "1875/1875 [==============================] - 5s 2ms/step - loss: 0.3197 - categorical_accuracy: 0.8827 - val_loss: 0.3491 - val_categorical_accuracy: 0.8714\n",
      "Epoch 8/10\n",
      "1875/1875 [==============================] - 5s 3ms/step - loss: 0.3079 - categorical_accuracy: 0.8856 - val_loss: 0.3479 - val_categorical_accuracy: 0.8783\n",
      "Epoch 9/10\n",
      "1875/1875 [==============================] - 5s 3ms/step - loss: 0.3003 - categorical_accuracy: 0.8888 - val_loss: 0.3273 - val_categorical_accuracy: 0.8805\n",
      "Epoch 10/10\n",
      "1875/1875 [==============================] - 5s 2ms/step - loss: 0.2980 - categorical_accuracy: 0.8892 - val_loss: 0.3315 - val_categorical_accuracy: 0.8828\n"
     ]
    },
    {
     "data": {
      "text/plain": [
       "<keras.callbacks.History at 0x2bf9f02b0>"
      ]
     },
     "execution_count": 24,
     "metadata": {},
     "output_type": "execute_result"
    }
   ],
   "source": [
    "model.fit(\n",
    "    x_train,\n",
    "    y_train,\n",
    "    batch_size=32,\n",
    "    epochs=10,\n",
    "    validation_data=(x_test, y_test),\n",
    "    callbacks=[\n",
    "        tensorboard_callback,\n",
    "        early_stopping_callback,\n",
    "        model_checkpoint_callback,\n",
    "    ],\n",
    ")"
   ]
  }
 ],
 "metadata": {
  "kernelspec": {
   "display_name": "Python 3.8.15 ('AI4Climate')",
   "language": "python",
   "name": "python3"
  },
  "language_info": {
   "codemirror_mode": {
    "name": "ipython",
    "version": 2
   },
   "file_extension": ".py",
   "mimetype": "text/x-python",
   "name": "python",
   "nbconvert_exporter": "python",
   "pygments_lexer": "ipython2",
   "version": "3.8.15"
  },
  "vscode": {
   "interpreter": {
    "hash": "34307d50f60b3a1739b0120251282ceb48aab2a74c47593a1ed36c86798eb2e0"
   }
  }
 },
 "nbformat": 4,
 "nbformat_minor": 0
}
