{
  "cells": [
    {
      "cell_type": "markdown",
      "metadata": {
        "id": "rlLPYUfJGcSK"
      },
      "source": [
        "# Regularization in TensorFlow\n",
        "\n",
        "<!--<badge>--><a href=\"https://colab.research.google.com/github/TheAIDojo/AI_4_Climate_Bootcamp/blob/main/Week 02 - Optimization and Regularization/Regularization.ipynb\" target=\"_parent\"><img src=\"https://colab.research.google.com/assets/colab-badge.svg\" alt=\"Open In Colab\"/></a><!--</badge>-->\n",
        "\n",
        "Regularization is a technique used to prevent overfitting in deep learning models. Overfitting occurs when a model is trained too well on the training data and performs poorly on unseen data. Regularization helps to reduce the complexity of the model and make it more generalizable to new data.\n",
        "\n"
      ]
    },
    {
      "cell_type": "markdown",
      "metadata": {
        "id": "3iv_1SilGRHu"
      },
      "source": [
        "## Table of Contents <a name=\"toc\"></a>\n",
        "* [Preparing the Example](#prep)\n",
        "* [Dropout](#dropout)\n",
        "* [Early Stopping](#early-stopping)\n"
      ]
    },
    {
      "cell_type": "markdown",
      "metadata": {
        "id": "t4NGHPVHGmIH"
      },
      "source": [
        "## Preparing the Example <a name=\"prep\"></a>\n",
        "[Back to Top](#toc)"
      ]
    },
    {
      "cell_type": "code",
      "execution_count": 1,
      "metadata": {
        "id": "aEngIJPwGJRr"
      },
      "outputs": [],
      "source": [
        "import numpy as np\n",
        "import pandas as pd\n",
        "import matplotlib.pyplot as plt\n",
        "import tensorflow as tf"
      ]
    },
    {
      "cell_type": "code",
      "execution_count": 2,
      "metadata": {
        "colab": {
          "base_uri": "https://localhost:8080/"
        },
        "id": "jW_W_xzxEHJo",
        "outputId": "5b54fa01-4a27-423f-8673-dd3f977c2436"
      },
      "outputs": [
        {
          "data": {
            "text/plain": [
              "((60000, 28, 28), (60000,), (10000, 28, 28), (60000,))"
            ]
          },
          "execution_count": 2,
          "metadata": {},
          "output_type": "execute_result"
        }
      ],
      "source": [
        "# Load and preprocess the data\n",
        "(x_train, y_train), (x_test, y_test) = tf.keras.datasets.mnist.load_data()\n",
        "\n",
        "x_train.shape, y_train.shape, x_test.shape, y_train.shape"
      ]
    },
    {
      "cell_type": "code",
      "execution_count": 3,
      "metadata": {
        "colab": {
          "base_uri": "https://localhost:8080/",
          "height": 281
        },
        "id": "Fv4ewQxzESI5",
        "outputId": "d1f4047d-049f-4470-e4b5-9ff6f719d6fa"
      },
      "outputs": [
        {
          "data": {
            "image/png": "[encoded data removed]",
            "text/plain": [
              "<Figure size 432x288 with 1 Axes>"
            ]
          },
          "metadata": {
            "needs_background": "light"
          },
          "output_type": "display_data"
        }
      ],
      "source": [
        "# Pick a random image index\n",
        "index = np.random.randint(0, x_train.shape[0])\n",
        "\n",
        "# Plot the image\n",
        "plt.imshow(x_train[index], cmap=\"gray\")\n",
        "plt.title(\"Label: \" + str(y_train[index]))\n",
        "plt.show()"
      ]
    },
    {
      "cell_type": "code",
      "execution_count": 4,
      "metadata": {
        "colab": {
          "base_uri": "https://localhost:8080/"
        },
        "id": "z0iSgwwxELmV",
        "outputId": "54d4ba04-875e-4ac5-c7b1-3ecae18e16f6"
      },
      "outputs": [
        {
          "data": {
            "text/plain": [
              "((60000, 784), (10000, 784))"
            ]
          },
          "execution_count": 4,
          "metadata": {},
          "output_type": "execute_result"
        }
      ],
      "source": [
        "# reshape the data to be in the format (batch_size, input_dim) because Dense layers require one dimensional input\n",
        "x_train = x_train.reshape(-1, 28 * 28)\n",
        "x_test = x_test.reshape(-1, 28 * 28)\n",
        "\n",
        "x_train.shape, x_test.shape"
      ]
    },
    {
      "cell_type": "code",
      "execution_count": 5,
      "metadata": {
        "id": "E8sS-G2aEmUr"
      },
      "outputs": [],
      "source": [
        "# Normalize the data\n",
        "x_train = x_train / 255.0\n",
        "x_test = x_test / 255.0"
      ]
    },
    {
      "cell_type": "code",
      "execution_count": 6,
      "metadata": {
        "colab": {
          "base_uri": "https://localhost:8080/"
        },
        "id": "kONnV_mDEw6x",
        "outputId": "ba00e7ad-0a1b-4708-ef3d-ef233a402df4"
      },
      "outputs": [
        {
          "data": {
            "text/plain": [
              "(TensorShape([60000, 10]), TensorShape([10000, 10]))"
            ]
          },
          "execution_count": 6,
          "metadata": {},
          "output_type": "execute_result"
        }
      ],
      "source": [
        "# convert the labels from integers to categorical using one hot encoding\n",
        "depth = len(set(y_train))  # calculate the number of classes to use as depth\n",
        "y_train = tf.one_hot(y_train, depth=depth)\n",
        "y_test = tf.one_hot(y_test, depth=depth)\n",
        "\n",
        "y_train.shape, y_test.shape"
      ]
    },
    {
      "cell_type": "markdown",
      "metadata": {
        "id": "gVWMcjkEIlqj"
      },
      "source": [
        "## Dropout <a name=\"dropout\"></a>\n",
        "[Back to Top](#toc)\n",
        "\n",
        "Dropout is a regularization technique that helps to prevent overfitting in deep learning models. It works by randomly \"dropping out\" or ignoring a subset of neurons during training. This is done by setting a probability, usually between 0 and 1, for each neuron to be dropped out.\n",
        "\n",
        "When dropout is applied, each neuron in the network has a probability of p of being \"dropped out\" during training. This means that for each training iteration, the neuron will not be used to make any computations or contribute to the final output. By dropping out neurons at random during training, the model is forced to learn to rely on multiple neurons rather than just a few specific ones. This makes the model more robust to noise in the data and less reliant on any one neuron.\n",
        "\n",
        "Dropout can be applied to any layer of a neural network, but it is most commonly applied to the fully connected layers. In TensorFlow, dropout can be easily applied to a layer using the `tf.keras.layers.Dropout` layer, where you can specify the dropout rate(probability) as a parameter.\n",
        "\n",
        "Here is an example of how to apply dropout to a dense layer in TensorFlow:\n",
        "\n",
        "```\n",
        "model = tf.keras.Sequential([\n",
        "  ...\n",
        "  tf.keras.layers.Dense(64, activation='relu'),\n",
        "  tf.keras.layers.Dropout(rate=0.2)\n",
        "  ...\n",
        "])\n",
        "```\n",
        "This will apply a dropout rate of 0.2 (20%) to the dense layer, meaning that 20% of the neurons in this layer will be dropped out during training. It's worth noting that the dropout is only used during training time, during the inference time all neurons are used.\n",
        "\n",
        "\n",
        "\n"
      ]
    },
    {
      "cell_type": "code",
      "execution_count": 7,
      "metadata": {
        "colab": {
          "base_uri": "https://localhost:8080/"
        },
        "id": "xNBIUnOhFCVs",
        "outputId": "d95f52d3-afcf-42c0-9cdd-2ac3f9997057"
      },
      "outputs": [
        {
          "name": "stdout",
          "output_type": "stream",
          "text": [
            "Model: \"sequential\"\n",
            "_________________________________________________________________\n",
            " Layer (type)                Output Shape              Param #   \n",
            "=================================================================\n",
            " dense (Dense)               (None, 256)               200960    \n",
            "                                                                 \n",
            " dropout (Dropout)           (None, 256)               0         \n",
            "                                                                 \n",
            " dense_1 (Dense)             (None, 128)               32896     \n",
            "                                                                 \n",
            " dropout_1 (Dropout)         (None, 128)               0         \n",
            "                                                                 \n",
            " dense_2 (Dense)             (None, 10)                1290      \n",
            "                                                                 \n",
            "=================================================================\n",
            "Total params: 235,146\n",
            "Trainable params: 235,146\n",
            "Non-trainable params: 0\n",
            "_________________________________________________________________\n"
          ]
        }
      ],
      "source": [
        "# fetch the input shape, i.e. the number of features\n",
        "input_shape = x_train.shape[1]  # input_shape = 784\n",
        "\n",
        "model = tf.keras.Sequential(\n",
        "    [\n",
        "        # input layer\n",
        "        tf.keras.layers.Input(shape=(input_shape)),\n",
        "        # hidden layers\n",
        "        tf.keras.layers.Dense(256, activation=\"relu\"),\n",
        "        tf.keras.layers.Dropout(0.2),\n",
        "        tf.keras.layers.Dense(128, activation=\"relu\"),\n",
        "        tf.keras.layers.Dropout(0.3),\n",
        "        # output layer\n",
        "        tf.keras.layers.Dense(10, activation=\"softmax\"),\n",
        "    ]\n",
        ")\n",
        "\n",
        "model.summary()"
      ]
    },
    {
      "cell_type": "code",
      "execution_count": 8,
      "metadata": {
        "id": "MmAZIsPVFS12"
      },
      "outputs": [],
      "source": [
        "loss_fn = tf.losses.CategoricalCrossentropy()\n",
        "optimizer = tf.optimizers.Adam(learning_rate=0.001)\n",
        "metrics = [tf.keras.metrics.CategoricalAccuracy()]\n",
        "\n",
        "# Compile the model\n",
        "model.compile(optimizer=optimizer, loss=loss_fn, metrics=metrics)"
      ]
    },
    {
      "cell_type": "code",
      "execution_count": 9,
      "metadata": {
        "colab": {
          "base_uri": "https://localhost:8080/"
        },
        "id": "qM1_OmruFZu2",
        "outputId": "5026099a-5668-4304-afd2-5682857e3503"
      },
      "outputs": [
        {
          "name": "stdout",
          "output_type": "stream",
          "text": [
            "Epoch 1/10\n",
            "1875/1875 [==============================] - 19s 9ms/step - loss: 0.2759 - categorical_accuracy: 0.9169 - val_loss: 0.1205 - val_categorical_accuracy: 0.9630\n",
            "Epoch 2/10\n",
            "1875/1875 [==============================] - 16s 9ms/step - loss: 0.1293 - categorical_accuracy: 0.9611 - val_loss: 0.0920 - val_categorical_accuracy: 0.9720\n",
            "Epoch 3/10\n",
            "1875/1875 [==============================] - 12s 6ms/step - loss: 0.0977 - categorical_accuracy: 0.9705 - val_loss: 0.0913 - val_categorical_accuracy: 0.9728\n",
            "Epoch 4/10\n",
            "1875/1875 [==============================] - 10s 6ms/step - loss: 0.0832 - categorical_accuracy: 0.9743 - val_loss: 0.0771 - val_categorical_accuracy: 0.9766\n",
            "Epoch 5/10\n",
            "1875/1875 [==============================] - 8s 4ms/step - loss: 0.0707 - categorical_accuracy: 0.9780 - val_loss: 0.0686 - val_categorical_accuracy: 0.9800\n",
            "Epoch 6/10\n",
            "1875/1875 [==============================] - 8s 4ms/step - loss: 0.0647 - categorical_accuracy: 0.9796 - val_loss: 0.0728 - val_categorical_accuracy: 0.9800\n",
            "Epoch 7/10\n",
            "1875/1875 [==============================] - 8s 4ms/step - loss: 0.0555 - categorical_accuracy: 0.9818 - val_loss: 0.0718 - val_categorical_accuracy: 0.9804\n",
            "Epoch 8/10\n",
            "1875/1875 [==============================] - 8s 4ms/step - loss: 0.0526 - categorical_accuracy: 0.9836 - val_loss: 0.0789 - val_categorical_accuracy: 0.9801\n",
            "Epoch 9/10\n",
            "1875/1875 [==============================] - 8s 4ms/step - loss: 0.0492 - categorical_accuracy: 0.9840 - val_loss: 0.0685 - val_categorical_accuracy: 0.9827\n",
            "Epoch 10/10\n",
            "1875/1875 [==============================] - 9s 5ms/step - loss: 0.0448 - categorical_accuracy: 0.9859 - val_loss: 0.0686 - val_categorical_accuracy: 0.9823\n"
          ]
        },
        {
          "data": {
            "text/plain": [
              "<keras.callbacks.History at 0x7f1ec9527e20>"
            ]
          },
          "execution_count": 9,
          "metadata": {},
          "output_type": "execute_result"
        }
      ],
      "source": [
        "model.fit(x_train, y_train, batch_size=32, epochs=10, validation_data=(x_test, y_test))"
      ]
    },
    {
      "cell_type": "markdown",
      "metadata": {
        "id": "7znRvZ2WJ1fj"
      },
      "source": [
        "## Early Stopping <a name=\"early-stopping\"></a>\n",
        "[Back to Top](#toc)\n",
        "\n",
        "Early stopping is a regularization technique used to prevent overfitting in deep learning models. The idea behind early stopping is to monitor the performance of the model on a validation set during training, and stop the training process when the performance starts to degrade.\n",
        "\n",
        "The validation set is a set of data that is used to evaluate the model's performance during training. The performance is typically measured by a metric such as accuracy or loss. The validation set is used to ensure that the model is generalizing well to new data, and not just memorizing the training data.\n",
        "\n",
        "During training, the performance of the model on the validation set is monitored at regular intervals (for example, after every epoch). If the performance of the model on the validation set stops improving for a certain number of consecutive iterations (for example, after several epochs), the training process is stopped. This helps to prevent the model from overfitting by stopping the training process before the model reaches its maximum number of training iterations.\n",
        "\n",
        "In TensorFlow, early stopping can be implemented by setting a `tf.keras.callbacks.EarlyStopping` callback during the training process, which monitors the performance of the model on a validation set and stops the training process when the performance stops improving. You can specify the metric to monitor, the number of iterations to wait before stopping the training, and whether to restore the weights of the best performing model.\n",
        "\n",
        "Here is an example of how to use early stopping in TensorFlow:\n",
        "\n",
        "```\n",
        "es = tf.keras.callbacks.EarlyStopping(monitor='val_loss', patience=5)\n",
        "model.fit(x_train, y_train, batch_size=32, epochs=100, validation_data=(x_test, y_test), callbacks=[es])\n",
        "```\n",
        "\n",
        "In this example, we used a `tf.keras.callbacks.EarlyStopping` callback to monitor the validation loss, we set the patience to 5, that means the training will stop if the validation loss stop improving after 5 epochs.\n",
        "\n",
        "Early stopping is a simple yet effective regularization technique that can be used to prevent overfitting in deep learning models. It helps to ensure that the model is generalizing well to new data and not just memorizing the training data, by stopping the training process when the performance on the validation set starts to degrade.\n",
        "\n",
        "\n",
        "\n"
      ]
    },
    {
      "cell_type": "code",
      "execution_count": 10,
      "metadata": {
        "colab": {
          "base_uri": "https://localhost:8080/"
        },
        "id": "igUjgjEE6RhO",
        "outputId": "fe8b4758-31b3-45d5-c448-49421a7a10dc"
      },
      "outputs": [
        {
          "name": "stdout",
          "output_type": "stream",
          "text": [
            "Model: \"sequential_1\"\n",
            "_________________________________________________________________\n",
            " Layer (type)                Output Shape              Param #   \n",
            "=================================================================\n",
            " dense_3 (Dense)             (None, 256)               200960    \n",
            "                                                                 \n",
            " dropout_2 (Dropout)         (None, 256)               0         \n",
            "                                                                 \n",
            " dense_4 (Dense)             (None, 128)               32896     \n",
            "                                                                 \n",
            " dropout_3 (Dropout)         (None, 128)               0         \n",
            "                                                                 \n",
            " dense_5 (Dense)             (None, 10)                1290      \n",
            "                                                                 \n",
            "=================================================================\n",
            "Total params: 235,146\n",
            "Trainable params: 235,146\n",
            "Non-trainable params: 0\n",
            "_________________________________________________________________\n"
          ]
        }
      ],
      "source": [
        "# fetch the input shape, i.e. the number of features\n",
        "input_shape = x_train.shape[1]  # input_shape = 784\n",
        "\n",
        "model = tf.keras.Sequential(\n",
        "    [\n",
        "        # input layer\n",
        "        tf.keras.layers.Input(shape=(input_shape)),\n",
        "        # hidden layers\n",
        "        tf.keras.layers.Dense(256, activation=\"relu\"),\n",
        "        tf.keras.layers.Dropout(0.2),\n",
        "        tf.keras.layers.Dense(128, activation=\"relu\"),\n",
        "        tf.keras.layers.Dropout(0.3),\n",
        "        # output layer\n",
        "        tf.keras.layers.Dense(10, activation=\"softmax\"),\n",
        "    ]\n",
        ")\n",
        "\n",
        "model.summary()"
      ]
    },
    {
      "cell_type": "code",
      "execution_count": 11,
      "metadata": {
        "id": "rf1duGcn6RhO"
      },
      "outputs": [],
      "source": [
        "loss_fn = tf.losses.CategoricalCrossentropy()\n",
        "optimizer = tf.optimizers.Adam(learning_rate=0.001)\n",
        "metrics = [tf.keras.metrics.CategoricalAccuracy()]\n",
        "\n",
        "# Compile the model\n",
        "model.compile(optimizer=optimizer, loss=loss_fn, metrics=metrics)"
      ]
    },
    {
      "cell_type": "code",
      "execution_count": 12,
      "metadata": {
        "colab": {
          "base_uri": "https://localhost:8080/"
        },
        "id": "Ncnolz876RhO",
        "outputId": "32edf916-c99b-403c-e44a-02baed809a7b"
      },
      "outputs": [
        {
          "name": "stdout",
          "output_type": "stream",
          "text": [
            "Epoch 1/20\n",
            "1875/1875 [==============================] - 9s 4ms/step - loss: 0.2709 - categorical_accuracy: 0.9184 - val_loss: 0.1101 - val_categorical_accuracy: 0.9660\n",
            "Epoch 2/20\n",
            "1875/1875 [==============================] - 8s 4ms/step - loss: 0.1252 - categorical_accuracy: 0.9618 - val_loss: 0.0966 - val_categorical_accuracy: 0.9698\n",
            "Epoch 3/20\n",
            "1875/1875 [==============================] - 8s 4ms/step - loss: 0.0989 - categorical_accuracy: 0.9697 - val_loss: 0.0728 - val_categorical_accuracy: 0.9785\n",
            "Epoch 4/20\n",
            "1875/1875 [==============================] - 8s 4ms/step - loss: 0.0801 - categorical_accuracy: 0.9748 - val_loss: 0.0776 - val_categorical_accuracy: 0.9776\n",
            "Epoch 5/20\n",
            "1875/1875 [==============================] - 8s 4ms/step - loss: 0.0698 - categorical_accuracy: 0.9782 - val_loss: 0.0710 - val_categorical_accuracy: 0.9777\n",
            "Epoch 6/20\n",
            "1875/1875 [==============================] - 9s 5ms/step - loss: 0.0613 - categorical_accuracy: 0.9808 - val_loss: 0.0743 - val_categorical_accuracy: 0.9795\n",
            "Epoch 7/20\n",
            "1875/1875 [==============================] - 10s 5ms/step - loss: 0.0566 - categorical_accuracy: 0.9826 - val_loss: 0.0713 - val_categorical_accuracy: 0.9787\n",
            "Epoch 8/20\n",
            "1875/1875 [==============================] - 9s 5ms/step - loss: 0.0541 - categorical_accuracy: 0.9827 - val_loss: 0.0857 - val_categorical_accuracy: 0.9781\n"
          ]
        },
        {
          "data": {
            "text/plain": [
              "<keras.callbacks.History at 0x7f1ec948fc10>"
            ]
          },
          "execution_count": 12,
          "metadata": {},
          "output_type": "execute_result"
        }
      ],
      "source": [
        "early_stopping = tf.keras.callbacks.EarlyStopping(\n",
        "    monitor=\"val_loss\", patience=3, mode=\"min\"\n",
        ")\n",
        "\n",
        "model.fit(\n",
        "    x_train,\n",
        "    y_train,\n",
        "    batch_size=32,\n",
        "    epochs=20,\n",
        "    validation_data=(x_test, y_test),\n",
        "    callbacks=[early_stopping],\n",
        ")"
      ]
    }
  ],
  "metadata": {
    "colab": {
      "provenance": []
    },
    "kernelspec": {
      "display_name": "Python 3 (ipykernel)",
      "language": "python",
      "name": "python3"
    },
    "language_info": {
      "codemirror_mode": {
        "name": "ipython",
        "version": 3
      },
      "file_extension": ".py",
      "mimetype": "text/x-python",
      "name": "python",
      "nbconvert_exporter": "python",
      "pygments_lexer": "ipython3",
      "version": "3.8.15"
    }
  },
  "nbformat": 4,
  "nbformat_minor": 1
}