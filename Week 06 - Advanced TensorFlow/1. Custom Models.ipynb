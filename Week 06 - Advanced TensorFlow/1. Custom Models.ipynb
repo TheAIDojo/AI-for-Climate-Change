{
  "cells": [
    {
      "attachments": {},
      "cell_type": "markdown",
      "metadata": {},
      "source": [
        "# Custom Model Building\n",
        "\n",
        "<!--<badge>--><a href=\"https://colab.research.google.com/github/TheAIDojo/AI_4_Climate_Bootcamp/blob/main/Week 06 - Advanced TensorFlow/1. Custom Models.ipynb\" target=\"_parent\"><img src=\"https://colab.research.google.com/assets/colab-badge.svg\" alt=\"Open In Colab\"/></a><!--</badge>-->\n",
        "\n",
        "So far, we have been using the Sequential model and the `.fit()` function to train our models. However, for more advanced tasks, we may need to use more advanced approaches for building and training our models. \n",
        "\n",
        "In this notebook, we will explore building different types of models in TensorFlow:\n",
        "- Sequential models (which we have already seen)\n",
        "- Functional models\n",
        "- Subclassing models\n",
        "\n",
        "Each of these approaches has its own advantages and disadvantages, and it is important to understand when to use each one. For example, functional models are more flexible and allow for more complex architectures, while subclassing models give us more control over the training process.\n",
        "\n",
        "We will start by revisiting the Sequential model and then move on to the other approaches. By the end of this notebook, you will have a better understanding of the different ways to build models in TensorFlow and when to use each one.\n",
        "\n",
        "## Table of Contents <a name=\"toc\"></a>\n",
        "- [Data Loading & Preprocessing](#data)\n",
        "- [Custom Model Building](#custom-models)\n",
        "    - [Sequential Model](#sequential-models)\n",
        "      - [Normal Output](#normal-output)\n",
        "      - [Sparse Output](#sparse-output)\n",
        "      - [Logits Output](#logits-output)\n",
        "    - [Functional Model](#functional-api)\n",
        "    - [Subclassing Model](#subclass)\n",
        "\n"
      ]
    },
    {
      "cell_type": "code",
      "execution_count": 1,
      "metadata": {
        "id": "buNC4XmtsD_4"
      },
      "outputs": [],
      "source": [
        "import numpy as np\n",
        "import pandas as pd\n",
        "import matplotlib.pyplot as plt\n",
        "import tensorflow as tf\n",
        "import tensorflow_datasets as tfds  # datasets\n",
        "from tqdm.notebook import tqdm  # progress bar"
      ]
    },
    {
      "attachments": {},
      "cell_type": "markdown",
      "metadata": {
        "id": "-wCZKOKZFYIp"
      },
      "source": [
        "## Data Loading & Preprocessing <a name=\"data\"></a>\n",
        "[Back to Top](#toc)\n",
        "\n",
        "We will revisit the Fashion MNIST dataset that we used in the previous notebook. This time we will load it using `tensorflow_datasets`. This is a library that provides a number of popular datasets and makes it easy to load them into TensorFlow."
      ]
    },
    {
      "cell_type": "code",
      "execution_count": 2,
      "metadata": {
        "colab": {
          "base_uri": "https://localhost:8080/"
        },
        "id": "-tMmFLTrtvf6",
        "outputId": "d478fabd-a564-4b8a-ac79-d5c7f28b0fa6"
      },
      "outputs": [
        {
          "name": "stdout",
          "output_type": "stream",
          "text": [
            "Metal device set to: Apple M2 Pro\n",
            "\n",
            "systemMemory: 32.00 GB\n",
            "maxCacheSize: 10.67 GB\n",
            "\n"
          ]
        },
        {
          "name": "stderr",
          "output_type": "stream",
          "text": [
            "2023-02-14 18:27:33.827918: I tensorflow/core/common_runtime/pluggable_device/pluggable_device_factory.cc:305] Could not identify NUMA node of platform GPU ID 0, defaulting to 0. Your kernel may not have been built with NUMA support.\n",
            "2023-02-14 18:27:33.828069: I tensorflow/core/common_runtime/pluggable_device/pluggable_device_factory.cc:271] Created TensorFlow device (/job:localhost/replica:0/task:0/device:GPU:0 with 0 MB memory) -> physical PluggableDevice (device: 0, name: METAL, pci bus id: <undefined>)\n"
          ]
        },
        {
          "data": {
            "text/plain": [
              "tfds.core.DatasetInfo(\n",
              "    name='fashion_mnist',\n",
              "    full_name='fashion_mnist/3.0.1',\n",
              "    description=\"\"\"\n",
              "    Fashion-MNIST is a dataset of Zalando's article images consisting of a training set of 60,000 examples and a test set of 10,000 examples. Each example is a 28x28 grayscale image, associated with a label from 10 classes.\n",
              "    \"\"\",\n",
              "    homepage='https://github.com/zalandoresearch/fashion-mnist',\n",
              "    data_path='/Users/sniperdw/tensorflow_datasets/fashion_mnist/3.0.1',\n",
              "    file_format=tfrecord,\n",
              "    download_size=29.45 MiB,\n",
              "    dataset_size=36.42 MiB,\n",
              "    features=FeaturesDict({\n",
              "        'image': Image(shape=(28, 28, 1), dtype=uint8),\n",
              "        'label': ClassLabel(shape=(), dtype=int64, num_classes=10),\n",
              "    }),\n",
              "    supervised_keys=('image', 'label'),\n",
              "    disable_shuffling=False,\n",
              "    splits={\n",
              "        'test': <SplitInfo num_examples=10000, num_shards=1>,\n",
              "        'train': <SplitInfo num_examples=60000, num_shards=1>,\n",
              "    },\n",
              "    citation=\"\"\"@article{DBLP:journals/corr/abs-1708-07747,\n",
              "      author    = {Han Xiao and\n",
              "                   Kashif Rasul and\n",
              "                   Roland Vollgraf},\n",
              "      title     = {Fashion-MNIST: a Novel Image Dataset for Benchmarking Machine Learning\n",
              "                   Algorithms},\n",
              "      journal   = {CoRR},\n",
              "      volume    = {abs/1708.07747},\n",
              "      year      = {2017},\n",
              "      url       = {http://arxiv.org/abs/1708.07747},\n",
              "      archivePrefix = {arXiv},\n",
              "      eprint    = {1708.07747},\n",
              "      timestamp = {Mon, 13 Aug 2018 16:47:27 +0200},\n",
              "      biburl    = {https://dblp.org/rec/bib/journals/corr/abs-1708-07747},\n",
              "      bibsource = {dblp computer science bibliography, https://dblp.org}\n",
              "    }\"\"\",\n",
              ")"
            ]
          },
          "execution_count": 2,
          "metadata": {},
          "output_type": "execute_result"
        }
      ],
      "source": [
        "dataset, info = tfds.load(\n",
        "    \"fashion_mnist\",  # name of the dataset\n",
        "    as_supervised=True,  # returns (image, label)\n",
        "    with_info=True,  # returns info about the dataset\n",
        ")\n",
        "\n",
        "# display info about the dataset\n",
        "info"
      ]
    },
    {
      "cell_type": "code",
      "execution_count": 3,
      "metadata": {
        "id": "hXKYmJn6t9kg"
      },
      "outputs": [
        {
          "data": {
            "text/plain": [
              "<PrefetchDataset element_spec=(TensorSpec(shape=(28, 28, 1), dtype=tf.uint8, name=None), TensorSpec(shape=(), dtype=tf.int64, name=None))>"
            ]
          },
          "execution_count": 3,
          "metadata": {},
          "output_type": "execute_result"
        }
      ],
      "source": [
        "# from the info we see that there are 2 splits: train and test. We can access them like this:\n",
        "dataset[\"train\"]  # train split\n",
        "dataset[\"test\"]  # test split"
      ]
    },
    {
      "cell_type": "code",
      "execution_count": 4,
      "metadata": {
        "colab": {
          "base_uri": "https://localhost:8080/"
        },
        "id": "4w0md9t0C8f1",
        "outputId": "005ad719-a4aa-462f-f2c5-7afe4919f57c"
      },
      "outputs": [
        {
          "data": {
            "text/plain": [
              "['T-shirt/top',\n",
              " 'Trouser',\n",
              " 'Pullover',\n",
              " 'Dress',\n",
              " 'Coat',\n",
              " 'Sandal',\n",
              " 'Shirt',\n",
              " 'Sneaker',\n",
              " 'Bag',\n",
              " 'Ankle boot']"
            ]
          },
          "execution_count": 4,
          "metadata": {},
          "output_type": "execute_result"
        }
      ],
      "source": [
        "# we can also access classes and thier names\n",
        "labels_index = info.features[\"label\"].names\n",
        "labels_index"
      ]
    },
    {
      "cell_type": "code",
      "execution_count": 6,
      "metadata": {
        "colab": {
          "base_uri": "https://localhost:8080/",
          "height": 253
        },
        "id": "kOeT7IfjukDz",
        "outputId": "4638a1e3-d7a7-48c5-b103-33c3e2dfbc48"
      },
      "outputs": [
        {
          "name": "stderr",
          "output_type": "stream",
          "text": [
            "2023-02-14 18:28:18.939821: W tensorflow/core/platform/profile_utils/cpu_utils.cc:128] Failed to get CPU frequency: 0 Hz\n",
            "2023-02-14 18:28:19.040734: W tensorflow/core/kernels/data/cache_dataset_ops.cc:856] The calling iterator did not fully read the dataset being cached. In order to avoid unexpected truncation of the dataset, the partially cached contents of the dataset  will be discarded. This can happen if you have an input pipeline similar to `dataset.cache().take(k).repeat()`. You should use `dataset.take(k).cache().repeat()` instead.\n"
          ]
        },
        {
          "data": {
            "image/png": "[encoded data removed]",
            "text/plain": [
              "<Figure size 1000x1000 with 10 Axes>"
            ]
          },
          "metadata": {},
          "output_type": "display_data"
        }
      ],
      "source": [
        "# plot the first 10 images in the training set and their labels\n",
        "plt.figure(figsize=(10, 10))\n",
        "for i, (image, label) in enumerate(dataset[\"train\"].take(10)):\n",
        "    plt.subplot(5, 5, i + 1)\n",
        "    image = tf.reshape(image, (28, 28))\n",
        "    plt.imshow(image, cmap=\"binary\")\n",
        "    plt.title(labels_index[int(label)])\n",
        "    plt.axis(\"off\")"
      ]
    },
    {
      "cell_type": "code",
      "execution_count": null,
      "metadata": {
        "id": "iDtjyFGVvJma"
      },
      "outputs": [],
      "source": [
        "# we will create two functions to preprocess the images and labels\n",
        "\n",
        "\n",
        "# this will only preprocess the images and labels without one hot encoding\n",
        "def preprocess(image, label):\n",
        "    image = tf.reshape(image, (28, 28, 1))\n",
        "    image = tf.cast(image, tf.float32)\n",
        "    image = image / 255.0\n",
        "    return image, label\n",
        "\n",
        "\n",
        "# this will preprocess the images and labels and one hot encode the labels\n",
        "def preprocess_with_one_hot(image, label):\n",
        "    image, label = preprocess(image, label)\n",
        "    label = tf.one_hot(label, depth=len(labels_index))\n",
        "    return image, label"
      ]
    },
    {
      "cell_type": "code",
      "execution_count": null,
      "metadata": {
        "id": "MuEi8sm5x1Un"
      },
      "outputs": [],
      "source": [
        "# we will create a function to prepare the dataset for training\n",
        "def dataset_prep(dataset, one_hot=True):\n",
        "    if (\n",
        "        one_hot\n",
        "    ):  # if one hot is True, we will use the function that one hot encodes the labels\n",
        "        dataset = dataset.map(\n",
        "            preprocess_with_one_hot, num_parallel_calls=tf.data.experimental.AUTOTUNE\n",
        "        )\n",
        "    else:  # otherwise we will use the function that does not one hot encode the labels\n",
        "        dataset = dataset.map(\n",
        "            preprocess, num_parallel_calls=tf.data.experimental.AUTOTUNE\n",
        "        )\n",
        "\n",
        "    # shuffle the dataset\n",
        "    dataset = dataset.shuffle(1000)\n",
        "\n",
        "    # batch the dataset\n",
        "    dataset = dataset.batch(32)\n",
        "\n",
        "    # prefetch the dataset\n",
        "    dataset = dataset.prefetch(tf.data.experimental.AUTOTUNE)\n",
        "\n",
        "    return dataset"
      ]
    },
    {
      "attachments": {},
      "cell_type": "markdown",
      "metadata": {
        "id": "Dz9o0kBcFOZ2"
      },
      "source": [
        "## Custom Model Building <a name=\"custom-models\"></a>\n",
        "[Back to Top](#toc)\n",
        "\n",
        "In this section, we will explore the different ways to build models in TensorFlow. We will start by revisiting the Sequential model and then move on to the other approaches. By the end of this notebook, you will have a better understanding of the different ways to build models in TensorFlow and when to use each one."
      ]
    },
    {
      "attachments": {},
      "cell_type": "markdown",
      "metadata": {
        "id": "ll-eDRlnzBVx"
      },
      "source": [
        "### Type 1: Sequential Models <a name=\"sequential-models\"></a>\n",
        "[Back to Top](#toc)\n",
        "\n",
        "Sequential models are the simplest type of model in TensorFlow. They are made up of a linear stack of layers, and each layer has exactly one input tensor and one output tensor. The most common type of layer is the `Dense` layer, which is a fully-connected layer."
      ]
    },
    {
      "attachments": {},
      "cell_type": "markdown",
      "metadata": {
        "id": "LpnHRjbUEjq3"
      },
      "source": [
        "#### Normal Output <a name=\"normal-output\"></a>\n",
        "[Back to Top](#toc)\n",
        "\n",
        "We will start by building a model that outputs a one-hot encoded vector. This is the most common type of output for classification problems. The output will be a vector of length 10, with a 1 in the position of the class and 0s everywhere else. For example, if the model predicts that the image is a shirt, the output will be `[0, 0, 0, 0, 0, 1, 0, 0, 0, 0]`."
      ]
    },
    {
      "cell_type": "code",
      "execution_count": null,
      "metadata": {
        "colab": {
          "base_uri": "https://localhost:8080/",
          "height": 425
        },
        "id": "TmSWjfF-y_EQ",
        "outputId": "79dec7a1-e853-4a37-d50f-af009efe8be6"
      },
      "outputs": [],
      "source": [
        "train_dataset = dataset_prep(source_train_dataset)\n",
        "test_dataset = dataset_prep(source_test_dataset)\n",
        "\n",
        "model = tf.keras.Sequential(\n",
        "    [\n",
        "        tf.keras.layers.Conv2D(\n",
        "            32, 3, padding=\"same\", activation=\"relu\", input_shape=(28, 28, 1)\n",
        "        ),\n",
        "        tf.keras.layers.MaxPooling2D(),\n",
        "        tf.keras.layers.Conv2D(64, 3, padding=\"same\", activation=\"relu\"),\n",
        "        tf.keras.layers.MaxPooling2D(),\n",
        "        tf.keras.layers.Flatten(),\n",
        "        tf.keras.layers.Dense(128, activation=\"relu\"),\n",
        "        tf.keras.layers.Dense(10, activation=\"softmax\"),\n",
        "    ]\n",
        ")\n",
        "\n",
        "model.compile(\n",
        "    optimizer=tf.keras.optimizers.Adam(),\n",
        "    loss=tf.keras.losses.CategoricalCrossentropy(),\n",
        "    metrics=[tf.keras.metrics.CategoricalAccuracy()],\n",
        ")\n",
        "\n",
        "model.fit(train_dataset, epochs=10, validation_data=test_dataset)"
      ]
    },
    {
      "attachments": {},
      "cell_type": "markdown",
      "metadata": {
        "id": "U0zl5SIB4Q2u"
      },
      "source": [
        "#### Sparse Output <a name=\"sparse-output\"></a>\n",
        "[Back to Top](#toc)\n",
        "\n",
        "We will now build a model that outputs a single integer. This is the most common type of output for classification problems. The output will be a single integer, which is the index of the class. For example, if the model predicts that the image is a shirt, the output will be `5`."
      ]
    },
    {
      "cell_type": "code",
      "execution_count": null,
      "metadata": {
        "colab": {
          "base_uri": "https://localhost:8080/"
        },
        "id": "-84X90jJ0IqO",
        "outputId": "b362bfa9-0381-46b2-ba77-7d216ac542f2"
      },
      "outputs": [],
      "source": [
        "# we will load the dataset again but this time we will not one hot encode the labels\n",
        "train_dataset = dataset_prep(source_train_dataset, one_hot=False)\n",
        "test_dataset = dataset_prep(source_test_dataset, one_hot=False)\n",
        "\n",
        "model = tf.keras.Sequential(\n",
        "    [\n",
        "        tf.keras.layers.Conv2D(\n",
        "            32, 3, padding=\"same\", activation=\"relu\", input_shape=(28, 28, 1)\n",
        "        ),\n",
        "        tf.keras.layers.MaxPooling2D(),\n",
        "        tf.keras.layers.Conv2D(64, 3, padding=\"same\", activation=\"relu\"),\n",
        "        tf.keras.layers.MaxPooling2D(),\n",
        "        tf.keras.layers.Flatten(),\n",
        "        tf.keras.layers.Dense(128, activation=\"relu\"),\n",
        "        tf.keras.layers.Dense(\n",
        "            10, activation=\"softmax\"\n",
        "        ),  # we will still use 10 neurons in the output layer\n",
        "    ]\n",
        ")\n",
        "\n",
        "model.compile(\n",
        "    optimizer=tf.keras.optimizers.Adam(),\n",
        "    loss=tf.keras.losses.SparseCategoricalCrossentropy(),  # we will use SparseCategoricalCrossentropy because we are not one hot encoding the labels\n",
        "    metrics=[\n",
        "        tf.keras.metrics.SparseCategoricalAccuracy()\n",
        "    ],  # we will use SparseCategoricalAccuracy because we are not one hot encoding the labels\n",
        ")\n",
        "\n",
        "model.fit(train_dataset, epochs=10, validation_data=test_dataset)"
      ]
    },
    {
      "attachments": {},
      "cell_type": "markdown",
      "metadata": {
        "id": "5apsoXbF5Uzd"
      },
      "source": [
        "#### Logits Output <a name=\"logits-output\"></a>\n",
        "[Back to Top](#toc)\n",
        "\n",
        "We will now build a model that outputs a vector of logits. This is the most common type of output for classification problems. The output will be a vector of length 10, with a real number in each position instead of probabilities. For example, if the model predicts that the image is a shirt, the output will be `[-2.4, -1.2, 1.7, 0.5, 0.3, 1.2, 3.14, -0.2, -2.1, 0.1]`.\n",
        "\n"
      ]
    },
    {
      "cell_type": "code",
      "execution_count": null,
      "metadata": {
        "colab": {
          "base_uri": "https://localhost:8080/",
          "height": 800
        },
        "id": "HqpCieFm4pi1",
        "outputId": "b1d7a8f4-67a9-4efe-9187-716dba497963"
      },
      "outputs": [],
      "source": [
        "train_dataset = dataset_prep(source_train_dataset)\n",
        "test_dataset = dataset_prep(source_test_dataset)\n",
        "\n",
        "model = tf.keras.Sequential(\n",
        "    [\n",
        "        tf.keras.layers.Conv2D(\n",
        "            32, 3, padding=\"same\", activation=\"relu\", input_shape=(28, 28, 1)\n",
        "        ),\n",
        "        tf.keras.layers.MaxPooling2D(),\n",
        "        tf.keras.layers.Conv2D(64, 3, padding=\"same\", activation=\"relu\"),\n",
        "        tf.keras.layers.MaxPooling2D(),\n",
        "        tf.keras.layers.Flatten(),\n",
        "        tf.keras.layers.Dense(128, activation=\"relu\"),\n",
        "        tf.keras.layers.Dense(10),\n",
        "    ]\n",
        ")\n",
        "\n",
        "model.compile(\n",
        "    optimizer=tf.keras.optimizers.Adam(),\n",
        "    loss=tf.keras.losses.CategoricalCrossentropy(\n",
        "        from_logits=True\n",
        "    ),  # we will use from_logits=True because we are not using softmax activation in the output layer\n",
        "    metrics=[tf.keras.metrics.CategoricalAccuracy()],\n",
        ")\n",
        "\n",
        "model.fit(train_dataset, epochs=10, validation_data=test_dataset)"
      ]
    },
    {
      "attachments": {},
      "cell_type": "markdown",
      "metadata": {
        "id": "N7tBWkcF67i9"
      },
      "source": [
        "### Type 2: Functional API <a name=\"functional-api\"></a>\n",
        "[Back to Top](#toc)\n",
        "\n",
        "The functional API allows us to build more complex models such as Multi-Input models, Multi-Output models, and directed acyclic graphs. It is also a more flexible and straightforward way to build complex models when compared to the sequential API.\n",
        "\n",
        "In the functional API, we define the input layer and specify how the inputs flow through the model by defining the forward pass. This allows us to have more control over the architecture of the model and allows us to build more complex models that cannot be built using the Sequential API."
      ]
    },
    {
      "cell_type": "code",
      "execution_count": null,
      "metadata": {
        "colab": {
          "base_uri": "https://localhost:8080/"
        },
        "id": "D-BYUGQh5xy0",
        "outputId": "d3a98777-9aa2-4edd-b3a2-2fe51e4106c0"
      },
      "outputs": [],
      "source": [
        "train_dataset = dataset_prep(source_train_dataset)\n",
        "test_dataset = dataset_prep(source_test_dataset)\n",
        "\n",
        "# building the model starts by creating the input layer\n",
        "inputs = tf.keras.Input(shape=(28, 28, 1))\n",
        "\n",
        "# we then pass the input through the layers in the desired order\n",
        "x = tf.keras.layers.Conv2D(32, 3, padding=\"same\", activation=\"relu\")(inputs)\n",
        "x = tf.keras.layers.MaxPooling2D()(x)\n",
        "x = tf.keras.layers.Conv2D(64, 3, padding=\"same\", activation=\"relu\")(x)\n",
        "x = tf.keras.layers.MaxPooling2D()(x)\n",
        "x = tf.keras.layers.Flatten()(x)\n",
        "x = tf.keras.layers.Dense(128, activation=\"relu\")(x)\n",
        "\n",
        "# and finally we create the output layer\n",
        "outputs = tf.keras.layers.Dense(10, activation=\"softmax\")(x)\n",
        "\n",
        "# the model is then created by passing the inputs and outputs to the Model class\n",
        "model = tf.keras.Model(inputs=inputs, outputs=outputs)\n",
        "\n",
        "# the rest of code is the same as before\n",
        "model.compile(\n",
        "    optimizer=tf.keras.optimizers.Adam(),\n",
        "    loss=tf.keras.losses.CategoricalCrossentropy(),\n",
        "    metrics=[tf.keras.metrics.CategoricalAccuracy()],\n",
        ")\n",
        "\n",
        "model.fit(train_dataset, epochs=10, validation_data=test_dataset)"
      ]
    },
    {
      "attachments": {},
      "cell_type": "markdown",
      "metadata": {
        "id": "D9hS2-6p_BW8"
      },
      "source": [
        "### Type 3: Subclass API <a name=\"subclass\"></a>\n",
        "[Back to Top](#toc)\n",
        "\n",
        "The Subclass API in Keras allows developers to create custom models by subclassing `tf.keras.Model` and defining their own forward pass. This is useful when you need more control over the architecture of your model, such as when creating complex models with multiple branches or when creating models with non-standard layers that are not available in Keras.\n",
        "\n",
        "To use the Subclass API, you need to define your own custom class that extends `tf.keras.Model`, and override the following methods:\n",
        "\n",
        "-`__init__`: where you will initialize the layers of your model.\n",
        "-`call`: where you will define the forward pass of your model.\n",
        "\n",
        "Using the Subclass API is a more advanced approach to building models in Keras and requires a deeper understanding of the framework. However, it gives you the flexibility to define complex models that cannot be achieved using the Sequential or Functional API.\n",
        "\n"
      ]
    },
    {
      "cell_type": "code",
      "execution_count": null,
      "metadata": {
        "colab": {
          "base_uri": "https://localhost:8080/"
        },
        "id": "dUgce2yp-owJ",
        "outputId": "608b6606-2232-414f-a47a-78fd369cff07"
      },
      "outputs": [
        {
          "name": "stdout",
          "output_type": "stream",
          "text": [
            "Epoch 1/10\n",
            "1875/1875 [==============================] - 15s 7ms/step - loss: 0.4014 - categorical_accuracy: 0.8549 - val_loss: 0.3489 - val_categorical_accuracy: 0.8757\n",
            "Epoch 2/10\n",
            "1875/1875 [==============================] - 14s 7ms/step - loss: 0.2605 - categorical_accuracy: 0.9049 - val_loss: 0.2820 - val_categorical_accuracy: 0.8979\n",
            "Epoch 3/10\n",
            "1875/1875 [==============================] - 13s 7ms/step - loss: 0.2166 - categorical_accuracy: 0.9200 - val_loss: 0.2490 - val_categorical_accuracy: 0.9090\n",
            "Epoch 4/10\n",
            "1875/1875 [==============================] - 13s 7ms/step - loss: 0.1832 - categorical_accuracy: 0.9321 - val_loss: 0.2397 - val_categorical_accuracy: 0.9136\n",
            "Epoch 5/10\n",
            "1875/1875 [==============================] - 14s 7ms/step - loss: 0.1541 - categorical_accuracy: 0.9434 - val_loss: 0.2414 - val_categorical_accuracy: 0.9155\n",
            "Epoch 6/10\n",
            "1875/1875 [==============================] - 13s 7ms/step - loss: 0.1293 - categorical_accuracy: 0.9518 - val_loss: 0.2637 - val_categorical_accuracy: 0.9119\n",
            "Epoch 7/10\n",
            "1875/1875 [==============================] - 16s 8ms/step - loss: 0.1072 - categorical_accuracy: 0.9605 - val_loss: 0.2774 - val_categorical_accuracy: 0.9122\n",
            "Epoch 8/10\n",
            "1875/1875 [==============================] - 16s 8ms/step - loss: 0.0885 - categorical_accuracy: 0.9675 - val_loss: 0.3035 - val_categorical_accuracy: 0.9165\n",
            "Epoch 9/10\n",
            "1875/1875 [==============================] - 13s 7ms/step - loss: 0.0753 - categorical_accuracy: 0.9725 - val_loss: 0.3505 - val_categorical_accuracy: 0.9064\n",
            "Epoch 10/10\n",
            "1875/1875 [==============================] - 13s 7ms/step - loss: 0.0593 - categorical_accuracy: 0.9789 - val_loss: 0.3568 - val_categorical_accuracy: 0.9155\n"
          ]
        },
        {
          "data": {
            "text/plain": [
              "<keras.callbacks.History at 0x7f707399fa90>"
            ]
          },
          "execution_count": 25,
          "metadata": {},
          "output_type": "execute_result"
        }
      ],
      "source": [
        "train_dataset = dataset_prep(source_train_dataset)\n",
        "test_dataset = dataset_prep(source_test_dataset)\n",
        "\n",
        "\n",
        "class FMNISTModel(tf.keras.Model):\n",
        "    # we will define the layers in the __init__ method\n",
        "    def __init__(self):\n",
        "        super(\n",
        "            FMNISTModel, self\n",
        "        ).__init__()  # we need to call the super class's __init__ method to initialize the parent class\n",
        "\n",
        "        # now we define the layers and store them as class attributes for later use\n",
        "        self.conv1 = tf.keras.layers.Conv2D(32, 3, padding=\"same\", activation=\"relu\")\n",
        "        self.maxpool1 = tf.keras.layers.MaxPooling2D()\n",
        "        self.conv2 = tf.keras.layers.Conv2D(64, 3, padding=\"same\", activation=\"relu\")\n",
        "        self.maxpool2 = tf.keras.layers.MaxPooling2D()\n",
        "        self.flatten = tf.keras.layers.Flatten()\n",
        "        self.dense1 = tf.keras.layers.Dense(128, activation=\"relu\")\n",
        "        self.dense2 = tf.keras.layers.Dense(10, activation=\"softmax\")\n",
        "\n",
        "    # we will define the forward pass in the call method\n",
        "    def call(self, inputs):\n",
        "        # we will pass the inputs through the layers in the desired order\n",
        "        x = self.conv1(inputs)\n",
        "        x = self.maxpool1(x)\n",
        "        x = self.conv2(x)\n",
        "        x = self.maxpool2(x)\n",
        "        x = self.flatten(x)\n",
        "        x = self.dense1(x)\n",
        "\n",
        "        # and finally we return the output of the last layer\n",
        "        return self.dense2(x)\n",
        "\n",
        "\n",
        "# to instantiate the model we just need to call the class\n",
        "model = FMNISTModel()\n",
        "\n",
        "# the rest of code is the same as before\n",
        "model.compile(\n",
        "    optimizer=tf.keras.optimizers.Adam(),\n",
        "    loss=tf.keras.losses.CategoricalCrossentropy(),\n",
        "    metrics=[tf.keras.metrics.CategoricalAccuracy()],\n",
        ")\n",
        "\n",
        "model.fit(train_dataset, epochs=10, validation_data=test_dataset)"
      ]
    }
  ],
  "metadata": {
    "accelerator": "GPU",
    "colab": {
      "provenance": [],
      "toc_visible": true
    },
    "gpuClass": "standard",
    "kernelspec": {
      "display_name": "ML-Training",
      "language": "python",
      "name": "python3"
    },
    "language_info": {
      "codemirror_mode": {
        "name": "ipython",
        "version": 3
      },
      "file_extension": ".py",
      "mimetype": "text/x-python",
      "name": "python",
      "nbconvert_exporter": "python",
      "pygments_lexer": "ipython3",
      "version": "3.8.15"
    },
    "vscode": {
      "interpreter": {
        "hash": "effefe004be52d4cd3a12856ff0d4a1b800b83fc4bd48cce66e2ad043e78af0c"
      }
    },
    "widgets": {
      "application/vnd.jupyter.widget-state+json": {
        "0ed5b54462e447e7ac0003ee284c7fa2": {
          "model_module": "@jupyter-widgets/base",
          "model_module_version": "1.2.0",
          "model_name": "LayoutModel",
          "state": {
            "_model_module": "@jupyter-widgets/base",
            "_model_module_version": "1.2.0",
            "_model_name": "LayoutModel",
            "_view_count": null,
            "_view_module": "@jupyter-widgets/base",
            "_view_module_version": "1.2.0",
            "_view_name": "LayoutView",
            "align_content": null,
            "align_items": null,
            "align_self": null,
            "border": null,
            "bottom": null,
            "display": null,
            "flex": null,
            "flex_flow": null,
            "grid_area": null,
            "grid_auto_columns": null,
            "grid_auto_flow": null,
            "grid_auto_rows": null,
            "grid_column": null,
            "grid_gap": null,
            "grid_row": null,
            "grid_template_areas": null,
            "grid_template_columns": null,
            "grid_template_rows": null,
            "height": null,
            "justify_content": null,
            "justify_items": null,
            "left": null,
            "margin": null,
            "max_height": null,
            "max_width": null,
            "min_height": null,
            "min_width": null,
            "object_fit": null,
            "object_position": null,
            "order": null,
            "overflow": null,
            "overflow_x": null,
            "overflow_y": null,
            "padding": null,
            "right": null,
            "top": null,
            "visibility": null,
            "width": null
          }
        },
        "248a2b7fd96e474491b077bddee37920": {
          "model_module": "@jupyter-widgets/controls",
          "model_module_version": "1.5.0",
          "model_name": "DescriptionStyleModel",
          "state": {
            "_model_module": "@jupyter-widgets/controls",
            "_model_module_version": "1.5.0",
            "_model_name": "DescriptionStyleModel",
            "_view_count": null,
            "_view_module": "@jupyter-widgets/base",
            "_view_module_version": "1.2.0",
            "_view_name": "StyleView",
            "description_width": ""
          }
        },
        "61c415ef315c40faba66178b25553bd9": {
          "model_module": "@jupyter-widgets/controls",
          "model_module_version": "1.5.0",
          "model_name": "ProgressStyleModel",
          "state": {
            "_model_module": "@jupyter-widgets/controls",
            "_model_module_version": "1.5.0",
            "_model_name": "ProgressStyleModel",
            "_view_count": null,
            "_view_module": "@jupyter-widgets/base",
            "_view_module_version": "1.2.0",
            "_view_name": "StyleView",
            "bar_color": null,
            "description_width": ""
          }
        },
        "68642360b1c54a73bec50e864214d6f0": {
          "model_module": "@jupyter-widgets/controls",
          "model_module_version": "1.5.0",
          "model_name": "FloatProgressModel",
          "state": {
            "_dom_classes": [],
            "_model_module": "@jupyter-widgets/controls",
            "_model_module_version": "1.5.0",
            "_model_name": "FloatProgressModel",
            "_view_count": null,
            "_view_module": "@jupyter-widgets/controls",
            "_view_module_version": "1.5.0",
            "_view_name": "ProgressView",
            "bar_style": "success",
            "description": "",
            "description_tooltip": null,
            "layout": "IPY_MODEL_d43d62705c0b4d0eb5f03b7241c8b0e3",
            "max": 10,
            "min": 0,
            "orientation": "horizontal",
            "style": "IPY_MODEL_61c415ef315c40faba66178b25553bd9",
            "value": 10
          }
        },
        "6a90d6911f794f0d99e21ffc9a6ec01e": {
          "model_module": "@jupyter-widgets/base",
          "model_module_version": "1.2.0",
          "model_name": "LayoutModel",
          "state": {
            "_model_module": "@jupyter-widgets/base",
            "_model_module_version": "1.2.0",
            "_model_name": "LayoutModel",
            "_view_count": null,
            "_view_module": "@jupyter-widgets/base",
            "_view_module_version": "1.2.0",
            "_view_name": "LayoutView",
            "align_content": null,
            "align_items": null,
            "align_self": null,
            "border": null,
            "bottom": null,
            "display": null,
            "flex": null,
            "flex_flow": null,
            "grid_area": null,
            "grid_auto_columns": null,
            "grid_auto_flow": null,
            "grid_auto_rows": null,
            "grid_column": null,
            "grid_gap": null,
            "grid_row": null,
            "grid_template_areas": null,
            "grid_template_columns": null,
            "grid_template_rows": null,
            "height": null,
            "justify_content": null,
            "justify_items": null,
            "left": null,
            "margin": null,
            "max_height": null,
            "max_width": null,
            "min_height": null,
            "min_width": null,
            "object_fit": null,
            "object_position": null,
            "order": null,
            "overflow": null,
            "overflow_x": null,
            "overflow_y": null,
            "padding": null,
            "right": null,
            "top": null,
            "visibility": null,
            "width": null
          }
        },
        "7746f194fae24e79a018568e0314f582": {
          "model_module": "@jupyter-widgets/controls",
          "model_module_version": "1.5.0",
          "model_name": "HTMLModel",
          "state": {
            "_dom_classes": [],
            "_model_module": "@jupyter-widgets/controls",
            "_model_module_version": "1.5.0",
            "_model_name": "HTMLModel",
            "_view_count": null,
            "_view_module": "@jupyter-widgets/controls",
            "_view_module_version": "1.5.0",
            "_view_name": "HTMLView",
            "description": "",
            "description_tooltip": null,
            "layout": "IPY_MODEL_b0b4ba4f487e4112982fb5201c232208",
            "placeholder": "\u200b",
            "style": "IPY_MODEL_b0d73da9a486497fad1ab727a0d39535",
            "value": "100%"
          }
        },
        "9b8b952783264af3963280ebd9ed2945": {
          "model_module": "@jupyter-widgets/controls",
          "model_module_version": "1.5.0",
          "model_name": "HBoxModel",
          "state": {
            "_dom_classes": [],
            "_model_module": "@jupyter-widgets/controls",
            "_model_module_version": "1.5.0",
            "_model_name": "HBoxModel",
            "_view_count": null,
            "_view_module": "@jupyter-widgets/controls",
            "_view_module_version": "1.5.0",
            "_view_name": "HBoxView",
            "box_style": "",
            "children": [
              "IPY_MODEL_7746f194fae24e79a018568e0314f582",
              "IPY_MODEL_68642360b1c54a73bec50e864214d6f0",
              "IPY_MODEL_bf0c7fae622e4c47b50a897ff9f2f2f7"
            ],
            "layout": "IPY_MODEL_6a90d6911f794f0d99e21ffc9a6ec01e"
          }
        },
        "b0b4ba4f487e4112982fb5201c232208": {
          "model_module": "@jupyter-widgets/base",
          "model_module_version": "1.2.0",
          "model_name": "LayoutModel",
          "state": {
            "_model_module": "@jupyter-widgets/base",
            "_model_module_version": "1.2.0",
            "_model_name": "LayoutModel",
            "_view_count": null,
            "_view_module": "@jupyter-widgets/base",
            "_view_module_version": "1.2.0",
            "_view_name": "LayoutView",
            "align_content": null,
            "align_items": null,
            "align_self": null,
            "border": null,
            "bottom": null,
            "display": null,
            "flex": null,
            "flex_flow": null,
            "grid_area": null,
            "grid_auto_columns": null,
            "grid_auto_flow": null,
            "grid_auto_rows": null,
            "grid_column": null,
            "grid_gap": null,
            "grid_row": null,
            "grid_template_areas": null,
            "grid_template_columns": null,
            "grid_template_rows": null,
            "height": null,
            "justify_content": null,
            "justify_items": null,
            "left": null,
            "margin": null,
            "max_height": null,
            "max_width": null,
            "min_height": null,
            "min_width": null,
            "object_fit": null,
            "object_position": null,
            "order": null,
            "overflow": null,
            "overflow_x": null,
            "overflow_y": null,
            "padding": null,
            "right": null,
            "top": null,
            "visibility": null,
            "width": null
          }
        },
        "b0d73da9a486497fad1ab727a0d39535": {
          "model_module": "@jupyter-widgets/controls",
          "model_module_version": "1.5.0",
          "model_name": "DescriptionStyleModel",
          "state": {
            "_model_module": "@jupyter-widgets/controls",
            "_model_module_version": "1.5.0",
            "_model_name": "DescriptionStyleModel",
            "_view_count": null,
            "_view_module": "@jupyter-widgets/base",
            "_view_module_version": "1.2.0",
            "_view_name": "StyleView",
            "description_width": ""
          }
        },
        "bf0c7fae622e4c47b50a897ff9f2f2f7": {
          "model_module": "@jupyter-widgets/controls",
          "model_module_version": "1.5.0",
          "model_name": "HTMLModel",
          "state": {
            "_dom_classes": [],
            "_model_module": "@jupyter-widgets/controls",
            "_model_module_version": "1.5.0",
            "_model_name": "HTMLModel",
            "_view_count": null,
            "_view_module": "@jupyter-widgets/controls",
            "_view_module_version": "1.5.0",
            "_view_name": "HTMLView",
            "description": "",
            "description_tooltip": null,
            "layout": "IPY_MODEL_0ed5b54462e447e7ac0003ee284c7fa2",
            "placeholder": "\u200b",
            "style": "IPY_MODEL_248a2b7fd96e474491b077bddee37920",
            "value": " 10/10 [01:38&lt;00:00,  9.59s/it]"
          }
        },
        "d43d62705c0b4d0eb5f03b7241c8b0e3": {
          "model_module": "@jupyter-widgets/base",
          "model_module_version": "1.2.0",
          "model_name": "LayoutModel",
          "state": {
            "_model_module": "@jupyter-widgets/base",
            "_model_module_version": "1.2.0",
            "_model_name": "LayoutModel",
            "_view_count": null,
            "_view_module": "@jupyter-widgets/base",
            "_view_module_version": "1.2.0",
            "_view_name": "LayoutView",
            "align_content": null,
            "align_items": null,
            "align_self": null,
            "border": null,
            "bottom": null,
            "display": null,
            "flex": null,
            "flex_flow": null,
            "grid_area": null,
            "grid_auto_columns": null,
            "grid_auto_flow": null,
            "grid_auto_rows": null,
            "grid_column": null,
            "grid_gap": null,
            "grid_row": null,
            "grid_template_areas": null,
            "grid_template_columns": null,
            "grid_template_rows": null,
            "height": null,
            "justify_content": null,
            "justify_items": null,
            "left": null,
            "margin": null,
            "max_height": null,
            "max_width": null,
            "min_height": null,
            "min_width": null,
            "object_fit": null,
            "object_position": null,
            "order": null,
            "overflow": null,
            "overflow_x": null,
            "overflow_y": null,
            "padding": null,
            "right": null,
            "top": null,
            "visibility": null,
            "width": null
          }
        }
      }
    }
  },
  "nbformat": 4,
  "nbformat_minor": 0
}